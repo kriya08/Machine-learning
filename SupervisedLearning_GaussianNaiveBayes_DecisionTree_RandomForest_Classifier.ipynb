{
 "cells": [
  {
   "cell_type": "code",
   "execution_count": 1,
   "id": "c6506d90",
   "metadata": {},
   "outputs": [],
   "source": [
    "import numpy as np\n",
    "import pandas as pd\n",
    "import matplotlib.pyplot as plt\n",
    "import seaborn as sns\n",
    "from sklearn.metrics import accuracy_score, confusion_matrix, classification_report"
   ]
  },
  {
   "cell_type": "code",
   "execution_count": 2,
   "id": "bcee9399",
   "metadata": {},
   "outputs": [],
   "source": [
    "headernames = ['sepal-length', 'sepal-width', 'petal-length', 'petal-width', 'Class']"
   ]
  },
  {
   "cell_type": "code",
   "execution_count": 11,
   "id": "818082a3",
   "metadata": {},
   "outputs": [],
   "source": [
    "data = pd.read_csv(\"C:/Practice datasets/Iris.csv\",names = headernames)"
   ]
  },
  {
   "cell_type": "code",
   "execution_count": 12,
   "id": "01432d69",
   "metadata": {},
   "outputs": [
    {
     "data": {
      "text/plain": [
       "(151, 5)"
      ]
     },
     "execution_count": 12,
     "metadata": {},
     "output_type": "execute_result"
    }
   ],
   "source": [
    "data.shape"
   ]
  },
  {
   "cell_type": "code",
   "execution_count": 13,
   "id": "666e5a86",
   "metadata": {},
   "outputs": [
    {
     "data": {
      "text/plain": [
       "<bound method NDFrame.head of       sepal-length   sepal-width   petal-length   petal-width           Class\n",
       "Id   SepalLengthCm  SepalWidthCm  PetalLengthCm  PetalWidthCm         Species\n",
       "1              5.1           3.5            1.4           0.2     Iris-setosa\n",
       "2              4.9           3.0            1.4           0.2     Iris-setosa\n",
       "3              4.7           3.2            1.3           0.2     Iris-setosa\n",
       "4              4.6           3.1            1.5           0.2     Iris-setosa\n",
       "..             ...           ...            ...           ...             ...\n",
       "146            6.7           3.0            5.2           2.3  Iris-virginica\n",
       "147            6.3           2.5            5.0           1.9  Iris-virginica\n",
       "148            6.5           3.0            5.2           2.0  Iris-virginica\n",
       "149            6.2           3.4            5.4           2.3  Iris-virginica\n",
       "150            5.9           3.0            5.1           1.8  Iris-virginica\n",
       "\n",
       "[151 rows x 5 columns]>"
      ]
     },
     "execution_count": 13,
     "metadata": {},
     "output_type": "execute_result"
    }
   ],
   "source": [
    "data.head"
   ]
  },
  {
   "cell_type": "code",
   "execution_count": 15,
   "id": "26e51fae",
   "metadata": {},
   "outputs": [],
   "source": [
    "# Data Preprocessing\n",
    "X = data.iloc[:, :-1].values  # Features\n",
    "y = data.iloc[:, 4].values    # Target variable\n"
   ]
  },
  {
   "cell_type": "code",
   "execution_count": 16,
   "id": "596ebd58",
   "metadata": {},
   "outputs": [],
   "source": [
    "#Now we will divide the dataset into training(70%) and test(30%) dataset\n",
    "from sklearn.model_selection import train_test_split\n",
    "X_train,X_test,y_train,y_test = train_test_split(X,y, test_size=0.30)"
   ]
  },
  {
   "cell_type": "code",
   "execution_count": 23,
   "id": "fbcbc1fd",
   "metadata": {},
   "outputs": [
    {
     "name": "stdout",
     "output_type": "stream",
     "text": [
      "sepal-length    object\n",
      "sepal-width     object\n",
      "petal-length    object\n",
      "petal-width     object\n",
      "Class           object\n",
      "dtype: object\n",
      "     sepal-length   sepal-width   petal-length   petal-width        Class\n",
      "Id  SepalLengthCm  SepalWidthCm  PetalLengthCm  PetalWidthCm      Species\n",
      "1             5.1           3.5            1.4           0.2  Iris-setosa\n",
      "2             4.9           3.0            1.4           0.2  Iris-setosa\n",
      "3             4.7           3.2            1.3           0.2  Iris-setosa\n",
      "4             4.6           3.1            1.5           0.2  Iris-setosa\n"
     ]
    }
   ],
   "source": [
    "#Inspect and clean data before scaling\n",
    "print(data.dtypes)  # Displays the data types of each column\n",
    "print(data.head())  # Shows the first few rows of the data\n"
   ]
  },
  {
   "cell_type": "code",
   "execution_count": 28,
   "id": "93d23bcf",
   "metadata": {},
   "outputs": [],
   "source": [
    "# Remove or replace problematic columns or values\n",
    "data = data.replace('SepalLengthCm', np.nan)  # Replace strings with NaN\n",
    "data = data.dropna()  # Drop rows with NaN, if necessary\n"
   ]
  },
  {
   "cell_type": "code",
   "execution_count": 29,
   "id": "464cb36f",
   "metadata": {},
   "outputs": [
    {
     "data": {
      "text/plain": [
       "sepal-length    150\n",
       "sepal-width     150\n",
       "petal-length    150\n",
       "petal-width     150\n",
       "Class           150\n",
       "dtype: int64"
      ]
     },
     "execution_count": 29,
     "metadata": {},
     "output_type": "execute_result"
    }
   ],
   "source": [
    "data.count()"
   ]
  },
  {
   "cell_type": "code",
   "execution_count": 39,
   "id": "ae488f2e",
   "metadata": {},
   "outputs": [
    {
     "name": "stdout",
     "output_type": "stream",
     "text": [
      "[[-0.88198997  0.6517091  -1.17017987 -0.90901909]\n",
      " [ 1.13948773  0.6517091   1.16351218  1.22685793]\n",
      " [-1.00833233  1.15302379 -1.22852218 -0.77552678]\n",
      " [-0.75564762  0.90236644 -1.34520678 -1.30949603]\n",
      " [-1.13467469  0.15039441 -1.28686448 -1.44298834]]\n",
      "[['5.6' '3.0' '4.1' '1.3']\n",
      " ['5.6' '2.8' '4.9' '2.0']\n",
      " ['4.9' '3.1' '1.5' '0.1']\n",
      " ['5.6' '2.9' '3.6' '1.3']\n",
      " ['6.7' '3.0' '5.2' '2.3']]\n"
     ]
    }
   ],
   "source": [
    "print(X_train[:5])  # Inspect first 5 rows of training data\n",
    "print(X_test[:5])   # Inspect first 5 rows of test data\n"
   ]
  },
  {
   "cell_type": "code",
   "execution_count": 40,
   "id": "923642c4",
   "metadata": {},
   "outputs": [],
   "source": [
    "X = data.iloc[:, :-1].values  # Select all features (excluding labels)\n",
    "y = data.iloc[:, -1].values  # Select the target column\n"
   ]
  },
  {
   "cell_type": "code",
   "execution_count": 42,
   "id": "8e54032e",
   "metadata": {},
   "outputs": [],
   "source": [
    "import pandas as pd\n",
    "import numpy as np\n",
    "\n",
    "# Assuming you have the column headers available\n",
    "column_names = ['sepal-length', 'sepal-width', 'petal-length', 'petal-width']\n",
    "X_df = pd.DataFrame(X, columns=column_names)  # Convert to a DataFrame for easier handling\n",
    "\n",
    "# Convert non-numeric values to NaN and drop rows with NaN values\n",
    "X_df = X_df.apply(pd.to_numeric, errors='coerce')\n",
    "X_df = X_df.dropna()\n",
    "\n",
    "# Convert back to NumPy array for further processing\n",
    "X_clean = X_df.values\n",
    "\n"
   ]
  },
  {
   "cell_type": "code",
   "execution_count": 43,
   "id": "a7a16ccf",
   "metadata": {},
   "outputs": [],
   "source": [
    "from sklearn.model_selection import train_test_split\n",
    "from sklearn.preprocessing import StandardScaler\n",
    "\n",
    "X_train, X_test, y_train, y_test = train_test_split(X_clean, y, test_size=0.30)\n",
    "\n",
    "scaler = StandardScaler()\n",
    "scaler.fit(X_train)\n",
    "X_train = scaler.transform(X_train)\n",
    "X_test = scaler.transform(X_test)\n"
   ]
  },
  {
   "cell_type": "code",
   "execution_count": 45,
   "id": "ff9f1913",
   "metadata": {},
   "outputs": [
    {
     "data": {
      "text/plain": [
       "GaussianNB()"
      ]
     },
     "execution_count": 45,
     "metadata": {},
     "output_type": "execute_result"
    }
   ],
   "source": [
    "#NAIVE BAYES\n",
    "\n",
    "from sklearn.naive_bayes import GaussianNB\n",
    "classifier = GaussianNB()\n",
    "classifier.fit(X_train, y_train)"
   ]
  },
  {
   "cell_type": "code",
   "execution_count": 46,
   "id": "f51a2b27",
   "metadata": {},
   "outputs": [],
   "source": [
    "#Test the accuracy of the Naive Bayes classifier over the training dataset\n",
    "y_pred = classifier.predict(X_train)"
   ]
  },
  {
   "cell_type": "code",
   "execution_count": 47,
   "id": "825c3b17",
   "metadata": {},
   "outputs": [
    {
     "name": "stdout",
     "output_type": "stream",
     "text": [
      "Accuracy: 0.9523809523809523\n"
     ]
    }
   ],
   "source": [
    "accuracy = accuracy_score(y_train,y_pred)\n",
    "print(\"Accuracy:\",accuracy)"
   ]
  },
  {
   "cell_type": "code",
   "execution_count": null,
   "id": "02059ff9",
   "metadata": {},
   "outputs": [],
   "source": [
    "#For the Naive Bayes classifier, we are achieving an accuracy of 95.24% (approximately) for the training dataset.\n",
    "#Therefore, the accuracy is really good on the training dataset.\n"
   ]
  },
  {
   "cell_type": "code",
   "execution_count": 48,
   "id": "6d0f1615",
   "metadata": {},
   "outputs": [],
   "source": [
    "y_pred = classifier.predict(X_test)"
   ]
  },
  {
   "cell_type": "code",
   "execution_count": 49,
   "id": "331ed983",
   "metadata": {},
   "outputs": [
    {
     "data": {
      "image/png": "[encoded data removed]",
      "text/plain": [
       "<Figure size 432x288 with 2 Axes>"
      ]
     },
     "metadata": {
      "needs_background": "light"
     },
     "output_type": "display_data"
    }
   ],
   "source": [
    "from sklearn.metrics import classification_report, confusion_matrix, accuracy_score\n",
    "result = confusion_matrix(y_test, y_pred)\n",
    "sns.heatmap(result,\n",
    "            annot=True,\n",
    "            fmt='g',\n",
    "            xticklabels=['Setosa','Versicolor', 'Virginica'],\n",
    "            yticklabels=['Setosa','Versicolor', 'Virginica'])\n",
    "plt.ylabel('Prediction',fontsize=13)\n",
    "plt.xlabel('Actual',fontsize=13)\n",
    "plt.title('Confusion Matrix',fontsize=17)\n",
    "plt.show()"
   ]
  },
  {
   "cell_type": "code",
   "execution_count": null,
   "id": "f48fe3b1",
   "metadata": {},
   "outputs": [],
   "source": [
    "#Out of 15 setosa 15 has been correctly classified,\n",
    "#out of 17 Versicolor 17 has been correctly classified and\n",
    "#out of 13 Virginica 12 has been correctly classified and 1 has been wrongly classified.\n"
   ]
  },
  {
   "cell_type": "code",
   "execution_count": 51,
   "id": "ff900167",
   "metadata": {},
   "outputs": [
    {
     "name": "stdout",
     "output_type": "stream",
     "text": [
      "Classification Report:\n",
      "                 precision    recall  f1-score   support\n",
      "\n",
      "    Iris-setosa       1.00      1.00      1.00        15\n",
      "Iris-versicolor       0.94      1.00      0.97        17\n",
      " Iris-virginica       1.00      0.92      0.96        13\n",
      "\n",
      "       accuracy                           0.98        45\n",
      "      macro avg       0.98      0.97      0.98        45\n",
      "   weighted avg       0.98      0.98      0.98        45\n",
      "\n",
      "Accuracy: 0.9777777777777777\n"
     ]
    }
   ],
   "source": [
    "result1 = classification_report(y_test, y_pred)\n",
    "print(\"Classification Report:\",)\n",
    "print (result1)\n",
    "result2 = accuracy_score(y_test,y_pred)\n",
    "print(\"Accuracy:\",result2)"
   ]
  },
  {
   "cell_type": "code",
   "execution_count": null,
   "id": "cc3bc6f5",
   "metadata": {},
   "outputs": [],
   "source": [
    "#We have achieved an accuracy score of 97% for test data and accuracy scores are almost similar to train data hence there is no overfitting or underfitting."
   ]
  },
  {
   "cell_type": "code",
   "execution_count": 52,
   "id": "493233c7",
   "metadata": {},
   "outputs": [],
   "source": [
    "# Now we will use Decision Tree Classifier\n",
    "#random_state = 0\n",
    "from sklearn.model_selection import train_test_split\n",
    "X_train, X_test, y_train, y_test = train_test_split(X, y, test_size=0.30, random_state=0)"
   ]
  },
  {
   "cell_type": "code",
   "execution_count": 53,
   "id": "e3ea2240",
   "metadata": {},
   "outputs": [
    {
     "data": {
      "text/plain": [
       "DecisionTreeClassifier()"
      ]
     },
     "execution_count": 53,
     "metadata": {},
     "output_type": "execute_result"
    }
   ],
   "source": [
    "from sklearn.tree import DecisionTreeClassifier\n",
    "classifier = DecisionTreeClassifier()\n",
    "classifier.fit(X_train, y_train)"
   ]
  },
  {
   "cell_type": "code",
   "execution_count": 54,
   "id": "b82787b5",
   "metadata": {},
   "outputs": [],
   "source": [
    "y_pred = classifier.predict(X_train)"
   ]
  },
  {
   "cell_type": "code",
   "execution_count": 55,
   "id": "facd5d45",
   "metadata": {},
   "outputs": [
    {
     "name": "stdout",
     "output_type": "stream",
     "text": [
      "Accuracy is: 1.0\n"
     ]
    }
   ],
   "source": [
    "accuracy = accuracy_score(y_train,y_pred)\n",
    "print(\"Accuracy is:\",accuracy)"
   ]
  },
  {
   "cell_type": "code",
   "execution_count": 56,
   "id": "f74cc107",
   "metadata": {},
   "outputs": [],
   "source": [
    "#Now we will make prediction on test data\n",
    "y_pred = classifier.predict(X_test)"
   ]
  },
  {
   "cell_type": "code",
   "execution_count": 60,
   "id": "fac6a70f",
   "metadata": {},
   "outputs": [
    {
     "data": {
      "image/png": "[encoded data removed]",
      "text/plain": [
       "<Figure size 432x288 with 2 Axes>"
      ]
     },
     "metadata": {
      "needs_background": "light"
     },
     "output_type": "display_data"
    }
   ],
   "source": [
    "from sklearn.metrics import classification_report, confusion_matrix, accuracy_score\n",
    "result = confusion_matrix(y_test, y_pred)\n",
    "sns.heatmap(result,\n",
    "            annot=True,\n",
    "            fmt='g',\n",
    "            xticklabels=['Setosa','Versicolor', 'Virginica'],\n",
    "            yticklabels=['Setosa','Versicolor', 'Virginica'])\n",
    "plt.ylabel('Prediction',fontsize=13)\n",
    "plt.xlabel('Actual',fontsize=13)\n",
    "plt.title('Confusion Matrix',fontsize=17)\n",
    "plt.show()"
   ]
  },
  {
   "cell_type": "code",
   "execution_count": 61,
   "id": "ab5cf7bc",
   "metadata": {},
   "outputs": [
    {
     "name": "stdout",
     "output_type": "stream",
     "text": [
      "Classification Report:\n",
      "                 precision    recall  f1-score   support\n",
      "\n",
      "    Iris-setosa       1.00      1.00      1.00        16\n",
      "Iris-versicolor       1.00      0.94      0.97        18\n",
      " Iris-virginica       0.92      1.00      0.96        11\n",
      "\n",
      "       accuracy                           0.98        45\n",
      "      macro avg       0.97      0.98      0.98        45\n",
      "   weighted avg       0.98      0.98      0.98        45\n",
      "\n",
      "Accuracy: 0.9777777777777777\n"
     ]
    }
   ],
   "source": [
    "result1 = classification_report(y_test,y_pred)\n",
    "print(\"Classification Report:\",)\n",
    "print(result1)\n",
    "result2=accuracy_score(y_test,y_pred)\n",
    "print(\"Accuracy:\",result2)\n"
   ]
  },
  {
   "cell_type": "code",
   "execution_count": 62,
   "id": "23040513",
   "metadata": {},
   "outputs": [
    {
     "data": {
      "text/plain": [
       "RandomForestClassifier(n_estimators=20)"
      ]
     },
     "execution_count": 62,
     "metadata": {},
     "output_type": "execute_result"
    }
   ],
   "source": [
    "#Random Forest classifier(20 decision trees)\n",
    "from sklearn.ensemble import RandomForestClassifier\n",
    "classifier = RandomForestClassifier(n_estimators=20)\n",
    "classifier.fit(X_train, y_train)\n",
    "\n"
   ]
  },
  {
   "cell_type": "code",
   "execution_count": 64,
   "id": "b07acaaf",
   "metadata": {},
   "outputs": [],
   "source": [
    "y_pred = classifier.predict(X_train)"
   ]
  },
  {
   "cell_type": "code",
   "execution_count": 65,
   "id": "403e7012",
   "metadata": {},
   "outputs": [
    {
     "name": "stdout",
     "output_type": "stream",
     "text": [
      "Accuracy is: 1.0\n"
     ]
    }
   ],
   "source": [
    "accuracy = accuracy_score(y_train,y_pred)\n",
    "print(\"Accuracy is:\",accuracy)"
   ]
  },
  {
   "cell_type": "code",
   "execution_count": 66,
   "id": "41a569c8",
   "metadata": {},
   "outputs": [],
   "source": [
    "y_pred = classifier.predict(X_test)"
   ]
  },
  {
   "cell_type": "code",
   "execution_count": 67,
   "id": "6fc0526c",
   "metadata": {},
   "outputs": [
    {
     "data": {
      "image/png": "[encoded data removed]",
      "text/plain": [
       "<Figure size 432x288 with 2 Axes>"
      ]
     },
     "metadata": {
      "needs_background": "light"
     },
     "output_type": "display_data"
    }
   ],
   "source": [
    "from sklearn.metrics import classification_report, confusion_matrix, accuracy_score\n",
    "result = confusion_matrix(y_test, y_pred)\n",
    "sns.heatmap(result,\n",
    "            annot=True,\n",
    "            fmt='g',\n",
    "            xticklabels=['Setosa','Versicolor', 'Virginica'],\n",
    "            yticklabels=['Setosa','Versicolor', 'Virginica'])\n",
    "plt.ylabel('Prediction',fontsize=13)\n",
    "plt.xlabel('Actual',fontsize=13)\n",
    "plt.title('Confusion Matrix',fontsize=17)\n",
    "plt.show()"
   ]
  },
  {
   "cell_type": "code",
   "execution_count": 68,
   "id": "d966aef1",
   "metadata": {},
   "outputs": [
    {
     "name": "stdout",
     "output_type": "stream",
     "text": [
      "Classification Report:\n",
      "                 precision    recall  f1-score   support\n",
      "\n",
      "    Iris-setosa       1.00      1.00      1.00        16\n",
      "Iris-versicolor       1.00      0.94      0.97        18\n",
      " Iris-virginica       0.92      1.00      0.96        11\n",
      "\n",
      "       accuracy                           0.98        45\n",
      "      macro avg       0.97      0.98      0.98        45\n",
      "   weighted avg       0.98      0.98      0.98        45\n",
      "\n",
      "Accuracy: 0.9777777777777777\n"
     ]
    }
   ],
   "source": [
    "result1 = classification_report(y_test, y_pred)\n",
    "print(\"Classification Report:\",)\n",
    "print (result1)\n",
    "result2 = accuracy_score(y_test,y_pred)\n",
    "print(\"Accuracy:\",result2)"
   ]
  }
 ],
 "metadata": {
  "kernelspec": {
   "display_name": "Python 3 (ipykernel)",
   "language": "python",
   "name": "python3"
  },
  "language_info": {
   "codemirror_mode": {
    "name": "ipython",
    "version": 3
   },
   "file_extension": ".py",
   "mimetype": "text/x-python",
   "name": "python",
   "nbconvert_exporter": "python",
   "pygments_lexer": "ipython3",
   "version": "3.9.12"
  }
 },
 "nbformat": 4,
 "nbformat_minor": 5
}
